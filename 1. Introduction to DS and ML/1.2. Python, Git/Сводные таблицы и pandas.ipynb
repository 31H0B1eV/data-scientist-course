{
 "cells": [
  {
   "cell_type": "markdown",
   "metadata": {},
   "source": [
    "## Библиотека Pandas для обработки данных"
   ]
  },
  {
   "cell_type": "code",
   "execution_count": 1,
   "metadata": {
    "collapsed": false
   },
   "outputs": [],
   "source": [
    "# импортируем библиотеку Pandas\n",
    "# http://pandas.pydata.org/pandas-docs/stable/tutorials.html\n",
    "import pandas as pd\n",
    "import numpy as np\n",
    "\n",
    "# для рисования диаграм\n",
    "%matplotlib inline\n",
    "import matplotlib.pyplot as plt"
   ]
  },
  {
   "cell_type": "code",
   "execution_count": 2,
   "metadata": {
    "collapsed": false
   },
   "outputs": [
    {
     "data": {
      "text/html": [
       "<div>\n",
       "<table border=\"1\" class=\"dataframe\">\n",
       "  <thead>\n",
       "    <tr style=\"text-align: right;\">\n",
       "      <th></th>\n",
       "      <th>date</th>\n",
       "      <th>query</th>\n",
       "      <th>project</th>\n",
       "      <th>shows</th>\n",
       "    </tr>\n",
       "  </thead>\n",
       "  <tbody>\n",
       "    <tr>\n",
       "      <th>0</th>\n",
       "      <td>01.09.2015</td>\n",
       "      <td>сбербанк онлайн</td>\n",
       "      <td>Finance</td>\n",
       "      <td>114362</td>\n",
       "    </tr>\n",
       "    <tr>\n",
       "      <th>1</th>\n",
       "      <td>01.09.2015</td>\n",
       "      <td>знакомства на рамблере</td>\n",
       "      <td>Horoscopes</td>\n",
       "      <td>114248</td>\n",
       "    </tr>\n",
       "    <tr>\n",
       "      <th>2</th>\n",
       "      <td>01.09.2015</td>\n",
       "      <td>сбербанк</td>\n",
       "      <td>Finance</td>\n",
       "      <td>114133</td>\n",
       "    </tr>\n",
       "    <tr>\n",
       "      <th>3</th>\n",
       "      <td>01.09.2015</td>\n",
       "      <td>день знаний</td>\n",
       "      <td>Horoscopes</td>\n",
       "      <td>114019</td>\n",
       "    </tr>\n",
       "    <tr>\n",
       "      <th>4</th>\n",
       "      <td>01.09.2015</td>\n",
       "      <td>од</td>\n",
       "      <td>Video</td>\n",
       "      <td>113905</td>\n",
       "    </tr>\n",
       "  </tbody>\n",
       "</table>\n",
       "</div>"
      ],
      "text/plain": [
       "         date                   query     project   shows\n",
       "0  01.09.2015         сбербанк онлайн     Finance  114362\n",
       "1  01.09.2015  знакомства на рамблере  Horoscopes  114248\n",
       "2  01.09.2015                сбербанк     Finance  114133\n",
       "3  01.09.2015             день знаний  Horoscopes  114019\n",
       "4  01.09.2015                      од       Video  113905"
      ]
     },
     "execution_count": 2,
     "metadata": {},
     "output_type": "execute_result"
    }
   ],
   "source": [
    "# берем данные из файла query-sample.txt\n",
    "# если файл влезает в оперативную память, то все работает быстро\n",
    "# формируем DataFrame и смотрим что получилось\n",
    "data = pd.read_csv('sample.txt', sep='\\t', names=['date', 'query', 'project', 'shows'])\n",
    "data.head()"
   ]
  },
  {
   "cell_type": "code",
   "execution_count": 3,
   "metadata": {
    "collapsed": false
   },
   "outputs": [
    {
     "data": {
      "text/html": [
       "<div>\n",
       "<table border=\"1\" class=\"dataframe\">\n",
       "  <thead>\n",
       "    <tr style=\"text-align: right;\">\n",
       "      <th></th>\n",
       "      <th>shows</th>\n",
       "    </tr>\n",
       "  </thead>\n",
       "  <tbody>\n",
       "    <tr>\n",
       "      <th>count</th>\n",
       "      <td>99998.000000</td>\n",
       "    </tr>\n",
       "    <tr>\n",
       "      <th>mean</th>\n",
       "      <td>1199.222104</td>\n",
       "    </tr>\n",
       "    <tr>\n",
       "      <th>std</th>\n",
       "      <td>7999.629338</td>\n",
       "    </tr>\n",
       "    <tr>\n",
       "      <th>min</th>\n",
       "      <td>25.000000</td>\n",
       "    </tr>\n",
       "    <tr>\n",
       "      <th>25%</th>\n",
       "      <td>33.000000</td>\n",
       "    </tr>\n",
       "    <tr>\n",
       "      <th>50%</th>\n",
       "      <td>47.000000</td>\n",
       "    </tr>\n",
       "    <tr>\n",
       "      <th>75%</th>\n",
       "      <td>85.000000</td>\n",
       "    </tr>\n",
       "    <tr>\n",
       "      <th>max</th>\n",
       "      <td>114362.000000</td>\n",
       "    </tr>\n",
       "  </tbody>\n",
       "</table>\n",
       "</div>"
      ],
      "text/plain": [
       "               shows\n",
       "count   99998.000000\n",
       "mean     1199.222104\n",
       "std      7999.629338\n",
       "min        25.000000\n",
       "25%        33.000000\n",
       "50%        47.000000\n",
       "75%        85.000000\n",
       "max    114362.000000"
      ]
     },
     "execution_count": 3,
     "metadata": {},
     "output_type": "execute_result"
    }
   ],
   "source": [
    "# основные характеристики\n",
    "data.describe()"
   ]
  },
  {
   "cell_type": "code",
   "execution_count": 4,
   "metadata": {
    "collapsed": false
   },
   "outputs": [
    {
     "data": {
      "text/html": [
       "<div>\n",
       "<table border=\"1\" class=\"dataframe\">\n",
       "  <thead>\n",
       "    <tr style=\"text-align: right;\">\n",
       "      <th></th>\n",
       "      <th>shows</th>\n",
       "    </tr>\n",
       "    <tr>\n",
       "      <th>project</th>\n",
       "      <th></th>\n",
       "    </tr>\n",
       "  </thead>\n",
       "  <tbody>\n",
       "    <tr>\n",
       "      <th>Afisha</th>\n",
       "      <td>3784365</td>\n",
       "    </tr>\n",
       "    <tr>\n",
       "      <th>Auto</th>\n",
       "      <td>5294272</td>\n",
       "    </tr>\n",
       "    <tr>\n",
       "      <th>Championat</th>\n",
       "      <td>3804336</td>\n",
       "    </tr>\n",
       "    <tr>\n",
       "      <th>Eda</th>\n",
       "      <td>1091901</td>\n",
       "    </tr>\n",
       "    <tr>\n",
       "      <th>Finance</th>\n",
       "      <td>10635168</td>\n",
       "    </tr>\n",
       "    <tr>\n",
       "      <th>Gazeta</th>\n",
       "      <td>2637420</td>\n",
       "    </tr>\n",
       "    <tr>\n",
       "      <th>HP</th>\n",
       "      <td>16131711</td>\n",
       "    </tr>\n",
       "    <tr>\n",
       "      <th>Horoscopes</th>\n",
       "      <td>2421596</td>\n",
       "    </tr>\n",
       "    <tr>\n",
       "      <th>Lenta</th>\n",
       "      <td>4727602</td>\n",
       "    </tr>\n",
       "    <tr>\n",
       "      <th>Letidor</th>\n",
       "      <td>5524290</td>\n",
       "    </tr>\n",
       "    <tr>\n",
       "      <th>Mail</th>\n",
       "      <td>6881770</td>\n",
       "    </tr>\n",
       "    <tr>\n",
       "      <th>News</th>\n",
       "      <td>3147265</td>\n",
       "    </tr>\n",
       "    <tr>\n",
       "      <th>Radio</th>\n",
       "      <td>7375958</td>\n",
       "    </tr>\n",
       "    <tr>\n",
       "      <th>Realty</th>\n",
       "      <td>3067540</td>\n",
       "    </tr>\n",
       "    <tr>\n",
       "      <th>SF</th>\n",
       "      <td>9315928</td>\n",
       "    </tr>\n",
       "    <tr>\n",
       "      <th>Video</th>\n",
       "      <td>22284411</td>\n",
       "    </tr>\n",
       "    <tr>\n",
       "      <th>Weather</th>\n",
       "      <td>3365113</td>\n",
       "    </tr>\n",
       "    <tr>\n",
       "      <th>Weekend</th>\n",
       "      <td>6153383</td>\n",
       "    </tr>\n",
       "    <tr>\n",
       "      <th>undef</th>\n",
       "      <td>2275783</td>\n",
       "    </tr>\n",
       "  </tbody>\n",
       "</table>\n",
       "</div>"
      ],
      "text/plain": [
       "               shows\n",
       "project             \n",
       "Afisha       3784365\n",
       "Auto         5294272\n",
       "Championat   3804336\n",
       "Eda          1091901\n",
       "Finance     10635168\n",
       "Gazeta       2637420\n",
       "HP          16131711\n",
       "Horoscopes   2421596\n",
       "Lenta        4727602\n",
       "Letidor      5524290\n",
       "Mail         6881770\n",
       "News         3147265\n",
       "Radio        7375958\n",
       "Realty       3067540\n",
       "SF           9315928\n",
       "Video       22284411\n",
       "Weather      3365113\n",
       "Weekend      6153383\n",
       "undef        2275783"
      ]
     },
     "execution_count": 4,
     "metadata": {},
     "output_type": "execute_result"
    }
   ],
   "source": [
    "# пример построения сводной таблицы\n",
    "# http://pandas.pydata.org/pandas-docs/version/0.17.1/generated/pandas.pivot_table.html\n",
    "\n",
    "pd.pivot_table(data, index=['project'], values=['shows'], aggfunc=np.sum)"
   ]
  },
  {
   "cell_type": "markdown",
   "metadata": {},
   "source": [
    "### Работа с DataFrame"
   ]
  },
  {
   "cell_type": "code",
   "execution_count": 5,
   "metadata": {
    "collapsed": false
   },
   "outputs": [
    {
     "data": {
      "text/html": [
       "<div>\n",
       "<table border=\"1\" class=\"dataframe\">\n",
       "  <thead>\n",
       "    <tr style=\"text-align: right;\">\n",
       "      <th></th>\n",
       "      <th>date</th>\n",
       "      <th>query</th>\n",
       "      <th>project</th>\n",
       "      <th>shows</th>\n",
       "    </tr>\n",
       "  </thead>\n",
       "  <tbody>\n",
       "    <tr>\n",
       "      <th>0</th>\n",
       "      <td>01.09.2015</td>\n",
       "      <td>сбербанк онлайн</td>\n",
       "      <td>Finance</td>\n",
       "      <td>114362</td>\n",
       "    </tr>\n",
       "    <tr>\n",
       "      <th>2</th>\n",
       "      <td>01.09.2015</td>\n",
       "      <td>сбербанк</td>\n",
       "      <td>Finance</td>\n",
       "      <td>114133</td>\n",
       "    </tr>\n",
       "    <tr>\n",
       "      <th>35</th>\n",
       "      <td>01.09.2015</td>\n",
       "      <td>мтс</td>\n",
       "      <td>Finance</td>\n",
       "      <td>110427</td>\n",
       "    </tr>\n",
       "    <tr>\n",
       "      <th>44</th>\n",
       "      <td>01.09.2015</td>\n",
       "      <td>однок</td>\n",
       "      <td>Finance</td>\n",
       "      <td>109437</td>\n",
       "    </tr>\n",
       "    <tr>\n",
       "      <th>69</th>\n",
       "      <td>01.09.2015</td>\n",
       "      <td>почта</td>\n",
       "      <td>Finance</td>\n",
       "      <td>106733</td>\n",
       "    </tr>\n",
       "  </tbody>\n",
       "</table>\n",
       "</div>"
      ],
      "text/plain": [
       "          date            query  project   shows\n",
       "0   01.09.2015  сбербанк онлайн  Finance  114362\n",
       "2   01.09.2015         сбербанк  Finance  114133\n",
       "35  01.09.2015              мтс  Finance  110427\n",
       "44  01.09.2015            однок  Finance  109437\n",
       "69  01.09.2015            почта  Finance  106733"
      ]
     },
     "execution_count": 5,
     "metadata": {},
     "output_type": "execute_result"
    }
   ],
   "source": [
    "# возьмем только проект Финансы\n",
    "dataFinance = data.loc[data['project']=='Finance']\n",
    "dataFinance.head()"
   ]
  },
  {
   "cell_type": "code",
   "execution_count": 6,
   "metadata": {
    "collapsed": false
   },
   "outputs": [
    {
     "name": "stdout",
     "output_type": "stream",
     "text": [
      "Поисковых фраз по проекту Финансы - 6625\n"
     ]
    }
   ],
   "source": [
    "# посмотрим сколько получилось строк\n",
    "# количество строк len(...) имеет тип число, поэтому преобразуем в строку для использования в составе строки (функция str)\n",
    "print 'Поисковых фраз по проекту Финансы - ' + str(len(dataFinance))"
   ]
  },
  {
   "cell_type": "code",
   "execution_count": 7,
   "metadata": {
    "collapsed": false
   },
   "outputs": [
    {
     "data": {
      "text/html": [
       "<div>\n",
       "<table border=\"1\" class=\"dataframe\">\n",
       "  <thead>\n",
       "    <tr style=\"text-align: right;\">\n",
       "      <th></th>\n",
       "      <th>date</th>\n",
       "      <th>query</th>\n",
       "      <th>project</th>\n",
       "      <th>shows</th>\n",
       "    </tr>\n",
       "  </thead>\n",
       "  <tbody>\n",
       "    <tr>\n",
       "      <th>108</th>\n",
       "      <td>01.09.2015</td>\n",
       "      <td>курс доллара</td>\n",
       "      <td>Finance</td>\n",
       "      <td>102649</td>\n",
       "    </tr>\n",
       "    <tr>\n",
       "      <th>580</th>\n",
       "      <td>01.09.2015</td>\n",
       "      <td>курс доллара онлайн</td>\n",
       "      <td>Finance</td>\n",
       "      <td>64013</td>\n",
       "    </tr>\n",
       "    <tr>\n",
       "      <th>1287</th>\n",
       "      <td>01.09.2015</td>\n",
       "      <td>курсы валют в банках москвы</td>\n",
       "      <td>Finance</td>\n",
       "      <td>31555</td>\n",
       "    </tr>\n",
       "    <tr>\n",
       "      <th>5093</th>\n",
       "      <td>01.09.2015</td>\n",
       "      <td>курс валют онлайн</td>\n",
       "      <td>Finance</td>\n",
       "      <td>335</td>\n",
       "    </tr>\n",
       "    <tr>\n",
       "      <th>5262</th>\n",
       "      <td>01.09.2015</td>\n",
       "      <td>курс нефти</td>\n",
       "      <td>Finance</td>\n",
       "      <td>326</td>\n",
       "    </tr>\n",
       "  </tbody>\n",
       "</table>\n",
       "</div>"
      ],
      "text/plain": [
       "            date                        query  project   shows\n",
       "108   01.09.2015                 курс доллара  Finance  102649\n",
       "580   01.09.2015          курс доллара онлайн  Finance   64013\n",
       "1287  01.09.2015  курсы валют в банках москвы  Finance   31555\n",
       "5093  01.09.2015            курс валют онлайн  Finance     335\n",
       "5262  01.09.2015                   курс нефти  Finance     326"
      ]
     },
     "execution_count": 7,
     "metadata": {},
     "output_type": "execute_result"
    }
   ],
   "source": [
    "# посмотрим фразы, которые содержат 'курс'\n",
    "# берем ту же переменную dataFinance\n",
    "# http://pandas.pydata.org/pandas-docs/stable/text.html\n",
    "\n",
    "dataFinance = dataFinance.loc[dataFinance['query'].str.contains('курс')]\n",
    "dataFinance.head()"
   ]
  },
  {
   "cell_type": "code",
   "execution_count": 8,
   "metadata": {
    "collapsed": false
   },
   "outputs": [
    {
     "data": {
      "text/html": [
       "<div>\n",
       "<table border=\"1\" class=\"dataframe\">\n",
       "  <thead>\n",
       "    <tr style=\"text-align: right;\">\n",
       "      <th></th>\n",
       "      <th>date</th>\n",
       "      <th>query</th>\n",
       "      <th>project</th>\n",
       "      <th>shows</th>\n",
       "      <th>count</th>\n",
       "    </tr>\n",
       "  </thead>\n",
       "  <tbody>\n",
       "    <tr>\n",
       "      <th>0</th>\n",
       "      <td>01.09.2015</td>\n",
       "      <td>курс доллара</td>\n",
       "      <td>Finance</td>\n",
       "      <td>102649.0</td>\n",
       "      <td>2.0</td>\n",
       "    </tr>\n",
       "    <tr>\n",
       "      <th>0</th>\n",
       "      <td>01.09.2015</td>\n",
       "      <td>курс доллара онлайн</td>\n",
       "      <td>Finance</td>\n",
       "      <td>64013.0</td>\n",
       "      <td>3.0</td>\n",
       "    </tr>\n",
       "    <tr>\n",
       "      <th>0</th>\n",
       "      <td>01.09.2015</td>\n",
       "      <td>курсы валют в банках москвы</td>\n",
       "      <td>Finance</td>\n",
       "      <td>31555.0</td>\n",
       "      <td>5.0</td>\n",
       "    </tr>\n",
       "    <tr>\n",
       "      <th>0</th>\n",
       "      <td>01.09.2015</td>\n",
       "      <td>курс валют онлайн</td>\n",
       "      <td>Finance</td>\n",
       "      <td>335.0</td>\n",
       "      <td>3.0</td>\n",
       "    </tr>\n",
       "    <tr>\n",
       "      <th>0</th>\n",
       "      <td>01.09.2015</td>\n",
       "      <td>курс нефти</td>\n",
       "      <td>Finance</td>\n",
       "      <td>326.0</td>\n",
       "      <td>2.0</td>\n",
       "    </tr>\n",
       "  </tbody>\n",
       "</table>\n",
       "</div>"
      ],
      "text/plain": [
       "         date                        query  project     shows  count\n",
       "0  01.09.2015                 курс доллара  Finance  102649.0    2.0\n",
       "0  01.09.2015          курс доллара онлайн  Finance   64013.0    3.0\n",
       "0  01.09.2015  курсы валют в банках москвы  Finance   31555.0    5.0\n",
       "0  01.09.2015            курс валют онлайн  Finance     335.0    3.0\n",
       "0  01.09.2015                   курс нефти  Finance     326.0    2.0"
      ]
     },
     "execution_count": 8,
     "metadata": {},
     "output_type": "execute_result"
    }
   ],
   "source": [
    "# посчитаем количество слов в столбце 'query'\n",
    "# для сложных метрик можно завести новый dataframe и добавлять в него построчно нужные значения\n",
    "\n",
    "dataFinanceNew = pd.DataFrame(columns=['date', 'query', 'project', 'shows', 'count'])\n",
    "\n",
    "for line in dataFinance.values:\n",
    "    dataFinanceNew = dataFinanceNew.append(pd.DataFrame([[line[0], line[1], line[2], line[3], len(line[1].split(' '))]], \\\n",
    "                                                        columns=['date', 'query', 'project', 'shows', 'count']))\n",
    "    \n",
    "dataFinanceNew.head()"
   ]
  },
  {
   "cell_type": "code",
   "execution_count": 9,
   "metadata": {
    "collapsed": false
   },
   "outputs": [
    {
     "data": {
      "text/plain": [
       "<matplotlib.axes._subplots.AxesSubplot at 0x65ae3c8>"
      ]
     },
     "execution_count": 9,
     "metadata": {},
     "output_type": "execute_result"
    },
    {
     "data": {
      "image/png": "[encoded data removed]",
      "text/plain": [
       "<matplotlib.figure.Figure at 0xbf11898>"
      ]
     },
     "metadata": {},
     "output_type": "display_data"
    }
   ],
   "source": [
    "# нарисуем распределение столбца 'count' (т. е. какое количество раз встретилась каждая цифра)\n",
    "# параметр bins определяет количество столбцов на графике\n",
    "\n",
    "dataFinanceNew['count'].hist(bins=7)"
   ]
  }
 ],
 "metadata": {
  "kernelspec": {
   "display_name": "Python 2",
   "language": "python",
   "name": "python2"
  },
  "language_info": {
   "codemirror_mode": {
    "name": "ipython",
    "version": 2
   },
   "file_extension": ".py",
   "mimetype": "text/x-python",
   "name": "python",
   "nbconvert_exporter": "python",
   "pygments_lexer": "ipython2",
   "version": "2.7.13"
  }
 },
 "nbformat": 4,
 "nbformat_minor": 0
}
